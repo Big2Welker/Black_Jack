{
  "nbformat": 4,
  "nbformat_minor": 0,
  "metadata": {
    "colab": {
      "provenance": [],
      "include_colab_link": true
    },
    "kernelspec": {
      "name": "python3",
      "display_name": "Python 3"
    },
    "language_info": {
      "name": "python"
    }
  },
  "cells": [
    {
      "cell_type": "markdown",
      "metadata": {
        "id": "view-in-github",
        "colab_type": "text"
      },
      "source": [
        "<a href=\"https://colab.research.google.com/github/Big2Welker/Black_Jack/blob/main/Black_Jack.ipynb\" target=\"_parent\"><img src=\"https://colab.research.google.com/assets/colab-badge.svg\" alt=\"Open In Colab\"/></a>"
      ]
    },
    {
      "cell_type": "code",
      "source": [
        "import random\n",
        "\n",
        "# Función para inicializar y mezclar el mazo de cartas\n",
        "def inicializar_mazo():\n",
        "    valores_cartas = [(str(valor), valor) for valor in range(2, 11)] + [('J', 10), ('Q', 10), ('K', 10), ('A', 11)]\n",
        "    palos = ['♥️Corazones', '♦️Diamantes', '♣️Tréboles', '♠️Picas']  # Tipos de cartas\n",
        "    mazo = [(nombre, valor, palo) for nombre, valor in valores_cartas for palo in palos]  # Generar mazo completo\n",
        "    random.shuffle(mazo)  # Mezclar el mazo aleatoriamente\n",
        "    return mazo\n",
        "\n",
        "# Función para inicializar los jugadores con sus créditos iniciales\n",
        "def inicializar_jugadores():\n",
        "    return {\"🔷Jugador 1\": {\"mano\": [], \"creditos\": 50},\n",
        "            \"🔶Jugador 2\": {\"mano\": [], \"creditos\": 50}}\n",
        "\n",
        "# Función para repartir dos cartas a cada jugador al inicio de la ronda\n",
        "def repartir_cartas(jugadores, mazo):\n",
        "    for jugador in jugadores:\n",
        "        jugadores[jugador][\"mano\"] = [mazo.pop(), mazo.pop()]  # Tomar dos cartas del mazo\n",
        "\n",
        "# Función para ajustar el valor del As cuando sea necesario\n",
        "def ajustar_por_ases(mano):\n",
        "    total = sum(carta[1] for carta in mano)  # Sumar el valor de todas las cartas en la mano\n",
        "    ases = sum(1 for carta in mano if carta[0] == 'A')  # Contar los Ases en la mano\n",
        "    while total > 21 and ases > 0:  # Si hay un As y la suma es mayor a 21, convertir As en 1\n",
        "        total -= 10  # Reducir el valor de un As de 11 a 1\n",
        "        ases -= 1\n",
        "    return total\n",
        "\n",
        "# Función para calcular el valor total de la mano de un jugador\n",
        "def calcular_valor(mano):\n",
        "    return ajustar_por_ases(mano)\n",
        "\n",
        "# Función para manejar el turno de un jugador\n",
        "def turno_jugador(jugador, jugadores, mazo):\n",
        "    while True:\n",
        "        valor_mano = calcular_valor(jugadores[jugador][\"mano\"])  # Calcular el valor actual de la mano\n",
        "        print(f\"\\n{jugador}, tu mano: {[f'{carta[0]} de {carta[2]}' for carta in jugadores[jugador]['mano']]} (Valor: {valor_mano})\")\n",
        "        if valor_mano >= 21:  # Si el jugador ya alcanzó 21 o más, termina su turno\n",
        "            break\n",
        "        opcion = input(\"¿Quieres otra carta🃏? (s/n): \").strip().lower()\n",
        "        if opcion == 's':\n",
        "            jugadores[jugador][\"mano\"].append(mazo.pop())  # Tomar una nueva carta del mazo\n",
        "        else:\n",
        "            break  # El jugador decide plantarse\n",
        "\n",
        "# Función para determinar el ganador de la ronda\n",
        "def verificar_ganador(jugadores):\n",
        "    valores = {j: calcular_valor(jugadores[j][\"mano\"]) for j in jugadores}  # Obtener valores de las manos\n",
        "    if valores[\"🔷Jugador 1\"] > 21:\n",
        "        return \"🔶Jugador 2\"  # Jugador 1 se pasó, gana Jugador 2\n",
        "    elif valores[\"🔶Jugador 2\"] > 21:\n",
        "        return \"🔷Jugador 1\"  # Jugador 2 se pasó, gana Jugador 1\n",
        "    elif valores[\"🔷Jugador 1\"] > valores[\"🔶Jugador 2\"]:\n",
        "        return \"🔷Jugador 1\"  # Jugador 1 tiene mayor valor\n",
        "    elif valores[\"🔶Jugador 2\"] > valores[\"🔷Jugador 1\"]:\n",
        "        return \"🔶Jugador 2\"  # Jugador 2 tiene mayor valor\n",
        "    return \"Empate\"  # Si tienen el mismo valor, es empate\n",
        "\n",
        "# Función para actualizar los créditos después de cada ronda\n",
        "def actualizar_creditos(ganador, jugadores):\n",
        "    if ganador != \"Empate🫂\":\n",
        "        jugadores[ganador][\"creditos\"] += 10  # El ganador recibe 10 créditos\n",
        "        perdedor = \"🔷Jugador 1\" if ganador == \"🔶Jugador 2\" else \"🔶Jugador 2\"\n",
        "        jugadores[perdedor][\"creditos\"] -= 10  # El perdedor pierde 10 créditos\n",
        "\n",
        "# Función principal para ejecutar el juego\n",
        "def jugar_blackjack():\n",
        "    jugadores = inicializar_jugadores()\n",
        "    print(\"Bienvenidos a Blackjack Pythonico!\")\n",
        "    print(\"\\nReglas del juego:\")\n",
        "    print(\"- Cada jugador comienza con 50 créditos.\")\n",
        "    print(\"- Se reparten 2 cartas🃏 al inicio.\")\n",
        "    print(\"- Puedes pedir cartas🃏 para acercarte a 21, pero si lo superas, pierdes.\")\n",
        "    print(\"- Cada ronda, el ganador recibe 10 créditos del perdedor.\")\n",
        "    print(\"- El primer jugador en llegar a 100 créditos gana.\")\n",
        "    input(\"\\n🔸Presiona Enter para comenzar...\")\n",
        "\n",
        "    while all(j[\"creditos\"] < 100 and j[\"creditos\"] > 0 for j in jugadores.values()):\n",
        "        mazo = inicializar_mazo()  # Crear y mezclar un nuevo mazo para cada ronda\n",
        "        repartir_cartas(jugadores, mazo)  # Repartir cartas iniciales a cada jugador\n",
        "        print(\"\\nSe han repartido las cartas iniciales.\")\n",
        "        turno_jugador(\"🔷Jugador 1\", jugadores, mazo)\n",
        "        turno_jugador(\"🔶Jugador 2\", jugadores, mazo)\n",
        "        ganador = verificar_ganador(jugadores)\n",
        "        print(f\"\\nGanador de la ronda: {ganador}\")\n",
        "        actualizar_creditos(ganador, jugadores)\n",
        "        print(f\"\\nCréditos - 🔷Jugador 1: {jugadores['🔷Jugador 1']['creditos']}, 🔶Jugador 2: {jugadores['🔶Jugador 2']['creditos']}\")\n",
        "\n",
        "        # Verificar si un jugador se ha quedado sin créditos\n",
        "        for jugador, datos in jugadores.items():\n",
        "            if datos[\"creditos\"] <= 0:\n",
        "                print(f\"{jugador} se ha quedado sin créditos. Fin del juego.\")\n",
        "                return  # Terminar el juego si un jugador se queda sin créditos\n",
        "\n",
        "        input(\"\\n🔸Presiona Enter para continuar...\")\n",
        "\n",
        "    # Determinar el ganador final\n",
        "    ganador_final = \"🔷Jugador 1\" if jugadores[\"🔷Jugador 1\"][\"creditos\"] >= 100 else \"🔶Jugador 2\"\n",
        "    print(f\"¡{ganador_final} ha ganado el juego!\")\n",
        "\n",
        "# Ejecutar el juego\n",
        "jugar_blackjack()"
      ],
      "metadata": {
        "colab": {
          "base_uri": "https://localhost:8080/",
          "height": 460
        },
        "id": "j66IB3rSTFYS",
        "outputId": "9a8896b0-e61a-4e7b-d447-afe47b2131d6"
      },
      "execution_count": null,
      "outputs": [
        {
          "output_type": "stream",
          "name": "stdout",
          "text": [
            "Bienvenidos a Blackjack Pythonico!\n",
            "\n",
            "Reglas del juego:\n",
            "- Cada jugador comienza con 50 créditos.\n",
            "- Se reparten 2 cartas🃏 al inicio.\n",
            "- Puedes pedir cartas🃏 para acercarte a 21, pero si lo superas, pierdes.\n",
            "- Cada ronda, el ganador recibe 10 créditos del perdedor.\n",
            "- El primer jugador en llegar a 100 créditos gana.\n"
          ]
        },
        {
          "output_type": "error",
          "ename": "KeyboardInterrupt",
          "evalue": "Interrupted by user",
          "traceback": [
            "\u001b[0;31m---------------------------------------------------------------------------\u001b[0m",
            "\u001b[0;31mKeyboardInterrupt\u001b[0m                         Traceback (most recent call last)",
            "\u001b[0;32m<ipython-input-2-e9356bfdc283>\u001b[0m in \u001b[0;36m<cell line: 0>\u001b[0;34m()\u001b[0m\n\u001b[1;32m    101\u001b[0m \u001b[0;34m\u001b[0m\u001b[0m\n\u001b[1;32m    102\u001b[0m \u001b[0;31m# Ejecutar el juego\u001b[0m\u001b[0;34m\u001b[0m\u001b[0;34m\u001b[0m\u001b[0m\n\u001b[0;32m--> 103\u001b[0;31m \u001b[0mjugar_blackjack\u001b[0m\u001b[0;34m(\u001b[0m\u001b[0;34m)\u001b[0m\u001b[0;34m\u001b[0m\u001b[0;34m\u001b[0m\u001b[0m\n\u001b[0m",
            "\u001b[0;32m<ipython-input-2-e9356bfdc283>\u001b[0m in \u001b[0;36mjugar_blackjack\u001b[0;34m()\u001b[0m\n\u001b[1;32m     75\u001b[0m     \u001b[0mprint\u001b[0m\u001b[0;34m(\u001b[0m\u001b[0;34m\"- Cada ronda, el ganador recibe 10 créditos del perdedor.\"\u001b[0m\u001b[0;34m)\u001b[0m\u001b[0;34m\u001b[0m\u001b[0;34m\u001b[0m\u001b[0m\n\u001b[1;32m     76\u001b[0m     \u001b[0mprint\u001b[0m\u001b[0;34m(\u001b[0m\u001b[0;34m\"- El primer jugador en llegar a 100 créditos gana.\"\u001b[0m\u001b[0;34m)\u001b[0m\u001b[0;34m\u001b[0m\u001b[0;34m\u001b[0m\u001b[0m\n\u001b[0;32m---> 77\u001b[0;31m     \u001b[0minput\u001b[0m\u001b[0;34m(\u001b[0m\u001b[0;34m\"\\n🔸Presiona Enter para comenzar...\"\u001b[0m\u001b[0;34m)\u001b[0m\u001b[0;34m\u001b[0m\u001b[0;34m\u001b[0m\u001b[0m\n\u001b[0m\u001b[1;32m     78\u001b[0m \u001b[0;34m\u001b[0m\u001b[0m\n\u001b[1;32m     79\u001b[0m     \u001b[0;32mwhile\u001b[0m \u001b[0mall\u001b[0m\u001b[0;34m(\u001b[0m\u001b[0mj\u001b[0m\u001b[0;34m[\u001b[0m\u001b[0;34m\"creditos\"\u001b[0m\u001b[0;34m]\u001b[0m \u001b[0;34m<\u001b[0m \u001b[0;36m100\u001b[0m \u001b[0;32mand\u001b[0m \u001b[0mj\u001b[0m\u001b[0;34m[\u001b[0m\u001b[0;34m\"creditos\"\u001b[0m\u001b[0;34m]\u001b[0m \u001b[0;34m>\u001b[0m \u001b[0;36m0\u001b[0m \u001b[0;32mfor\u001b[0m \u001b[0mj\u001b[0m \u001b[0;32min\u001b[0m \u001b[0mjugadores\u001b[0m\u001b[0;34m.\u001b[0m\u001b[0mvalues\u001b[0m\u001b[0;34m(\u001b[0m\u001b[0;34m)\u001b[0m\u001b[0;34m)\u001b[0m\u001b[0;34m:\u001b[0m\u001b[0;34m\u001b[0m\u001b[0;34m\u001b[0m\u001b[0m\n",
            "\u001b[0;32m/usr/local/lib/python3.11/dist-packages/ipykernel/kernelbase.py\u001b[0m in \u001b[0;36mraw_input\u001b[0;34m(self, prompt)\u001b[0m\n\u001b[1;32m   1175\u001b[0m                 \u001b[0;34m\"raw_input was called, but this frontend does not support input requests.\"\u001b[0m\u001b[0;34m\u001b[0m\u001b[0;34m\u001b[0m\u001b[0m\n\u001b[1;32m   1176\u001b[0m             )\n\u001b[0;32m-> 1177\u001b[0;31m         return self._input_request(\n\u001b[0m\u001b[1;32m   1178\u001b[0m             \u001b[0mstr\u001b[0m\u001b[0;34m(\u001b[0m\u001b[0mprompt\u001b[0m\u001b[0;34m)\u001b[0m\u001b[0;34m,\u001b[0m\u001b[0;34m\u001b[0m\u001b[0;34m\u001b[0m\u001b[0m\n\u001b[1;32m   1179\u001b[0m             \u001b[0mself\u001b[0m\u001b[0;34m.\u001b[0m\u001b[0m_parent_ident\u001b[0m\u001b[0;34m[\u001b[0m\u001b[0;34m\"shell\"\u001b[0m\u001b[0;34m]\u001b[0m\u001b[0;34m,\u001b[0m\u001b[0;34m\u001b[0m\u001b[0;34m\u001b[0m\u001b[0m\n",
            "\u001b[0;32m/usr/local/lib/python3.11/dist-packages/ipykernel/kernelbase.py\u001b[0m in \u001b[0;36m_input_request\u001b[0;34m(self, prompt, ident, parent, password)\u001b[0m\n\u001b[1;32m   1217\u001b[0m             \u001b[0;32mexcept\u001b[0m \u001b[0mKeyboardInterrupt\u001b[0m\u001b[0;34m:\u001b[0m\u001b[0;34m\u001b[0m\u001b[0;34m\u001b[0m\u001b[0m\n\u001b[1;32m   1218\u001b[0m                 \u001b[0;31m# re-raise KeyboardInterrupt, to truncate traceback\u001b[0m\u001b[0;34m\u001b[0m\u001b[0;34m\u001b[0m\u001b[0m\n\u001b[0;32m-> 1219\u001b[0;31m                 \u001b[0;32mraise\u001b[0m \u001b[0mKeyboardInterrupt\u001b[0m\u001b[0;34m(\u001b[0m\u001b[0;34m\"Interrupted by user\"\u001b[0m\u001b[0;34m)\u001b[0m \u001b[0;32mfrom\u001b[0m \u001b[0;32mNone\u001b[0m\u001b[0;34m\u001b[0m\u001b[0;34m\u001b[0m\u001b[0m\n\u001b[0m\u001b[1;32m   1220\u001b[0m             \u001b[0;32mexcept\u001b[0m \u001b[0mException\u001b[0m\u001b[0;34m:\u001b[0m\u001b[0;34m\u001b[0m\u001b[0;34m\u001b[0m\u001b[0m\n\u001b[1;32m   1221\u001b[0m                 \u001b[0mself\u001b[0m\u001b[0;34m.\u001b[0m\u001b[0mlog\u001b[0m\u001b[0;34m.\u001b[0m\u001b[0mwarning\u001b[0m\u001b[0;34m(\u001b[0m\u001b[0;34m\"Invalid Message:\"\u001b[0m\u001b[0;34m,\u001b[0m \u001b[0mexc_info\u001b[0m\u001b[0;34m=\u001b[0m\u001b[0;32mTrue\u001b[0m\u001b[0;34m)\u001b[0m\u001b[0;34m\u001b[0m\u001b[0;34m\u001b[0m\u001b[0m\n",
            "\u001b[0;31mKeyboardInterrupt\u001b[0m: Interrupted by user"
          ]
        }
      ]
    }
  ]
}